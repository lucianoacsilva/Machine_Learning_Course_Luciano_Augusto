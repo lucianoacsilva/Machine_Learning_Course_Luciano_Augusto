{
 "cells": [
  {
   "cell_type": "markdown",
   "metadata": {},
   "source": [
    "# Upper Confidence Bound algorithm\n",
    "\n",
    "## Importing libraries\n",
    "\n",
    "First step is importing the necessary libraries\n"
   ]
  },
  {
   "cell_type": "code",
   "execution_count": 25,
   "metadata": {},
   "outputs": [],
   "source": [
    "import numpy as np\n",
    "import matplotlib.pyplot as plt\n",
    "import pandas as pd\n",
    "import math as mt\n",
    "import statistics"
   ]
  },
  {
   "cell_type": "markdown",
   "metadata": {},
   "source": [
    "Import the data"
   ]
  },
  {
   "cell_type": "code",
   "execution_count": 13,
   "metadata": {},
   "outputs": [],
   "source": [
    "dataset = pd.read_csv('Ads_CTR_Optimisation.csv')"
   ]
  },
  {
   "cell_type": "markdown",
   "metadata": {},
   "source": [
    "## Implement the algorithm\n",
    "\n",
    "Number of selections and sum of rewards"
   ]
  },
  {
   "cell_type": "code",
   "execution_count": 14,
   "metadata": {},
   "outputs": [],
   "source": [
    "N = 10000\n",
    "d = 10\n",
    "\n",
    "numberSelections = [0] * d\n",
    "sumRewards = [0] * d\n",
    "adsSelected = []\n",
    "totalReward = 0\n",
    "\n",
    "for n in range(0, N):\n",
    "    \n",
    "    maxUpperBound = 0\n",
    "    ad = 0\n",
    "    \n",
    "    for i in range(0, d):\n",
    "        \n",
    "        if(numberSelections[i] > 0):\n",
    "            averageReward = sumRewards[i]/numberSelections[i]\n",
    "            deltaI = mt.sqrt(3/2 * mt.log(n + 1)/numberSelections[i])\n",
    "            upperBound = averageReward + deltaI\n",
    "        \n",
    "        else:\n",
    "            upperBound = 1e400\n",
    "        if upperBound > maxUpperBound:\n",
    "            maxUpperBound = upperBound\n",
    "            ad = i\n",
    "    \n",
    "    adsSelected.append(ad)\n",
    "    numberSelections[ad] = numberSelections[ad] + 1\n",
    "    reward = dataset.values[n, ad]\n",
    "    sumRewards[ad] = sumRewards[ad] + reward\n",
    "    totalReward = totalReward + reward\n",
    "    \n",
    "\n",
    "        \n",
    "        \n",
    "    "
   ]
  },
  {
   "cell_type": "markdown",
   "metadata": {},
   "source": [
    "The following line returns the most selected advertisement."
   ]
  },
  {
   "cell_type": "code",
   "execution_count": 26,
   "metadata": {},
   "outputs": [
    {
     "data": {
      "text/plain": [
       "4"
      ]
     },
     "execution_count": 26,
     "metadata": {},
     "output_type": "execute_result"
    }
   ],
   "source": [
    "statistics.mode(adsSelected)"
   ]
  },
  {
   "cell_type": "markdown",
   "metadata": {},
   "source": [
    "Now, time to see the results!!!"
   ]
  },
  {
   "cell_type": "code",
   "execution_count": 28,
   "metadata": {},
   "outputs": [
    {
     "data": {
      "text/plain": [
       "Text(0, 0.5, 'Number of selections')"
      ]
     },
     "execution_count": 28,
     "metadata": {},
     "output_type": "execute_result"
    },
    {
     "data": {
      "image/png": "[encoded data removed]",
      "text/plain": [
       "<Figure size 432x288 with 1 Axes>"
      ]
     },
     "metadata": {
      "needs_background": "light"
     },
     "output_type": "display_data"
    }
   ],
   "source": [
    "plt.hist(adsSelected)\n",
    "plt.title(\"Histogram of advertisement selections\")\n",
    "plt.xlabel(\"Advertisements\")\n",
    "plt.ylabel(\"Number of selections\")"
   ]
  }
 ],
 "metadata": {
  "kernelspec": {
   "display_name": "Python 3",
   "language": "python",
   "name": "python3"
  },
  "language_info": {
   "codemirror_mode": {
    "name": "ipython",
    "version": 3
   },
   "file_extension": ".py",
   "mimetype": "text/x-python",
   "name": "python",
   "nbconvert_exporter": "python",
   "pygments_lexer": "ipython3",
   "version": "3.7.3"
  }
 },
 "nbformat": 4,
 "nbformat_minor": 2
}
