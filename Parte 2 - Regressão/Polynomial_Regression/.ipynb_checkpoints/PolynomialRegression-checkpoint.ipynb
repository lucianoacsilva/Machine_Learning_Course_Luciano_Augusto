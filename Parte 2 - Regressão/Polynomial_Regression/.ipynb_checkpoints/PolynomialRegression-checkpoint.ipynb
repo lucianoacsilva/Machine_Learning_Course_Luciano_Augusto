{
 "cells": [
  {
   "cell_type": "markdown",
   "metadata": {},
   "source": [
    "# Polynomial Regression\n",
    "\n",
    "Template aplication for polynomial Regression from Luciano Augusto Campagnoli da Silva's studies of Machine Learning A-Z Course of Kirill Eremenko and Hadelin de Ponteves. In this notebook, it will be compared with a linear regression model.\n",
    "\n",
    "## Importing dataset"
   ]
  },
  {
   "cell_type": "code",
   "execution_count": 1,
   "metadata": {},
   "outputs": [],
   "source": [
    "dataset = read.csv('Position_Salaries.csv')\n",
    "dataset = dataset[2:3]\n"
   ]
  },
  {
   "cell_type": "markdown",
   "metadata": {},
   "source": [
    "Fitting linear regressor:"
   ]
  },
  {
   "cell_type": "code",
   "execution_count": 2,
   "metadata": {},
   "outputs": [],
   "source": [
    "lin_reg <- lm(formula = Salary ~ ., data = dataset)"
   ]
  },
  {
   "cell_type": "markdown",
   "metadata": {},
   "source": [
    "Time to fit the polynomial one!!! First, creation of the polynomial degrees:"
   ]
  },
  {
   "cell_type": "code",
   "execution_count": 3,
   "metadata": {},
   "outputs": [],
   "source": [
    "dataset$Level2 <- dataset$Level^2\n",
    "dataset$Level3 <- dataset$Level^3\n",
    "dataset$Level4 <- dataset$Level^4"
   ]
  },
  {
   "cell_type": "markdown",
   "metadata": {},
   "source": [
    "Then, fitting the polynomial regressor:"
   ]
  },
  {
   "cell_type": "code",
   "execution_count": 4,
   "metadata": {},
   "outputs": [],
   "source": [
    "poly_reg <- lm(formula = Salary ~ ., data = dataset)"
   ]
  },
  {
   "cell_type": "markdown",
   "metadata": {},
   "source": [
    "Visualize linear regressor results with **ggplot2**:"
   ]
  },
  {
   "cell_type": "code",
   "execution_count": 7,
   "metadata": {},
   "outputs": [
    {
     "name": "stderr",
     "output_type": "stream",
     "text": [
      "Warning message:\n",
      "“unable to access index for repository https://cran.r-project.org/src/contrib:\n",
      "  não foi possível abrir a URL 'https://cran.r-project.org/src/contrib/PACKAGES'”\n",
      "Warning message:\n",
      "“package ‘ggplot2’ is not available (for R version 3.6.1)”\n",
      "Warning message:\n",
      "“unable to access index for repository https://cran.r-project.org/bin/macosx/el-capitan/contrib/3.6:\n",
      "  não foi possível abrir a URL 'https://cran.r-project.org/bin/macosx/el-capitan/contrib/3.6/PACKAGES'”\n"
     ]
    },
    {
     "ename": "ERROR",
     "evalue": "Error in library(ggplot2): there is no package called ‘ggplot2’\n",
     "output_type": "error",
     "traceback": [
      "Error in library(ggplot2): there is no package called ‘ggplot2’\nTraceback:\n",
      "1. library(ggplot2)"
     ]
    }
   ],
   "source": [
    "library(ggplot2)\n",
    "\n",
    "ggplot() + \n",
    "  geom_point(aes(x = dataset$Level, y = dataset$Salary),\n",
    "             colour = 'red') + \n",
    "  geom_line(aes(x = dataset$Level, y = predict(lin_reg, newdata = dataset)),\n",
    "            colour = 'blue') +\n",
    "  ggtitle('Salary vs Level of Experience (Simple Linear Regression)') +\n",
    "  xlab('Level of Experience') +\n",
    "  ylab('Salary')\n"
   ]
  },
  {
   "cell_type": "markdown",
   "metadata": {},
   "source": [
    "Visualizing polynomial regressor results with **ggplot2**:"
   ]
  },
  {
   "cell_type": "code",
   "execution_count": 5,
   "metadata": {},
   "outputs": [
    {
     "ename": "ERROR",
     "evalue": "Error in ggplot(): não foi possível encontrar a função \"ggplot\"\n",
     "output_type": "error",
     "traceback": [
      "Error in ggplot(): não foi possível encontrar a função \"ggplot\"\nTraceback:\n"
     ]
    }
   ],
   "source": [
    "ggplot() + \n",
    "  geom_point(aes(x = dataset$Level, y = dataset$Salary),\n",
    "             colour = 'red') + \n",
    "  geom_line(aes(x = dataset$Level, y = predict(poly_reg, newdata = dataset)),\n",
    "            colour = 'purple') +\n",
    "  ggtitle('Salary vs Level of Experience (Polynomial Linear Regression)') +\n",
    "  xlab('Level of Experience') +\n",
    "  ylab('Salary')"
   ]
  },
  {
   "cell_type": "markdown",
   "metadata": {},
   "source": [
    "Predicting with the linear regressor:"
   ]
  },
  {
   "cell_type": "code",
   "execution_count": null,
   "metadata": {},
   "outputs": [],
   "source": [
    "y_pred <- predict(object = lin_reg, data.frame(Level = 6.5) )"
   ]
  },
  {
   "cell_type": "markdown",
   "metadata": {},
   "source": [
    "Predicting with the polynomial regressor:"
   ]
  },
  {
   "cell_type": "code",
   "execution_count": null,
   "metadata": {},
   "outputs": [],
   "source": [
    "y_pred <- predict(object = poly_reg, data.frame(Level = 6.5,\n",
    "                                                Level2 = 6.5^2,\n",
    "                                                Level3 = 6.5^3,\n",
    "                                                Level4 = 6.5^4) )\n"
   ]
  }
 ],
 "metadata": {
  "kernelspec": {
   "display_name": "R",
   "language": "R",
   "name": "ir"
  },
  "language_info": {
   "codemirror_mode": "r",
   "file_extension": ".r",
   "mimetype": "text/x-r-source",
   "name": "R",
   "pygments_lexer": "r",
   "version": "3.6.1"
  }
 },
 "nbformat": 4,
 "nbformat_minor": 2
}
