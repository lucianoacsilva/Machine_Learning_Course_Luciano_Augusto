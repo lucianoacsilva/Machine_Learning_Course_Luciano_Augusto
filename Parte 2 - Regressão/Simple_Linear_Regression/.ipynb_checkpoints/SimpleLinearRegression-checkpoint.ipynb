{
 "cells": [
  {
   "cell_type": "markdown",
   "metadata": {},
   "source": [
    "# Regression Tree\n",
    "\n",
    "Template aplication for linear regression from Luciano Augusto Campagnoli da Silva's studies of Machine Learning A-Z Course of Kirill Eremenko and Hadelin de Ponteves.\n",
    "\n",
    "## Importing dataset"
   ]
  },
  {
   "cell_type": "code",
   "execution_count": 16,
   "metadata": {},
   "outputs": [],
   "source": [
    "dataset = read.csv('Salary_Data.csv')"
   ]
  },
  {
   "cell_type": "markdown",
   "metadata": {},
   "source": [
    "Import R library **caTools**, split the dataset into a training set and a test set."
   ]
  },
  {
   "cell_type": "code",
   "execution_count": 17,
   "metadata": {},
   "outputs": [],
   "source": [
    "library(caTools)\n",
    "set.seed(123)\n",
    "split <- sample.split(dataset$Salary, SplitRatio = 2/3)\n",
    "training_set <- subset(dataset, split == TRUE)\n",
    "test_set <- subset(dataset, split == FALSE)"
   ]
  },
  {
   "cell_type": "markdown",
   "metadata": {},
   "source": [
    "Fiiting a simple linear regression model over the training set."
   ]
  },
  {
   "cell_type": "code",
   "execution_count": 18,
   "metadata": {},
   "outputs": [],
   "source": [
    "regressor <- lm(formula = Salary ~ YearsExperience, data = training_set)"
   ]
  },
  {
   "cell_type": "markdown",
   "metadata": {},
   "source": [
    "Predicting data:"
   ]
  },
  {
   "cell_type": "code",
   "execution_count": 19,
   "metadata": {},
   "outputs": [
    {
     "data": {
      "text/html": [
       "<dl class=dl-horizontal>\n",
       "\t<dt>2</dt>\n",
       "\t\t<dd>37766.7736315146</dd>\n",
       "\t<dt>4</dt>\n",
       "\t\t<dd>44322.3308976239</dd>\n",
       "\t<dt>5</dt>\n",
       "\t\t<dd>46195.3472593695</dd>\n",
       "\t<dt>8</dt>\n",
       "\t\t<dd>55560.4290680972</dd>\n",
       "\t<dt>11</dt>\n",
       "\t\t<dd>62115.9863342066</dd>\n",
       "\t<dt>16</dt>\n",
       "\t\t<dd>71481.0681429342</dd>\n",
       "\t<dt>20</dt>\n",
       "\t\t<dd>81782.6581325347</dd>\n",
       "\t<dt>21</dt>\n",
       "\t\t<dd>89274.7235795169</dd>\n",
       "\t<dt>24</dt>\n",
       "\t\t<dd>102385.838111736</dd>\n",
       "\t<dt>26</dt>\n",
       "\t\t<dd>109877.903558718</dd>\n",
       "</dl>\n"
      ],
      "text/latex": [
       "\\begin{description*}\n",
       "\\item[2] 37766.7736315146\n",
       "\\item[4] 44322.3308976239\n",
       "\\item[5] 46195.3472593695\n",
       "\\item[8] 55560.4290680972\n",
       "\\item[11] 62115.9863342066\n",
       "\\item[16] 71481.0681429342\n",
       "\\item[20] 81782.6581325347\n",
       "\\item[21] 89274.7235795169\n",
       "\\item[24] 102385.838111736\n",
       "\\item[26] 109877.903558718\n",
       "\\end{description*}\n"
      ],
      "text/markdown": [
       "2\n",
       ":   37766.77363151464\n",
       ":   44322.33089762395\n",
       ":   46195.34725936958\n",
       ":   55560.429068097211\n",
       ":   62115.986334206616\n",
       ":   71481.068142934220\n",
       ":   81782.658132534721\n",
       ":   89274.723579516924\n",
       ":   102385.83811173626\n",
       ":   109877.903558718\n",
       "\n"
      ],
      "text/plain": [
       "        2         4         5         8        11        16        20        21 \n",
       " 37766.77  44322.33  46195.35  55560.43  62115.99  71481.07  81782.66  89274.72 \n",
       "       24        26 \n",
       "102385.84 109877.90 "
      ]
     },
     "metadata": {},
     "output_type": "display_data"
    }
   ],
   "source": [
    "y_pred <- predict(regressor, newdata = test_set)\n",
    "y_pred"
   ]
  },
  {
   "cell_type": "code",
   "execution_count": null,
   "metadata": {},
   "outputs": [],
   "source": [
    "\n",
    "library(ggplot2)\n",
    "ggplot() +\n",
    "  geom_point(aes(x = dataset$Level, y = dataset$Salary),\n",
    "             colour = 'red') +\n",
    "  geom_line(aes(x = dataset$Level, y = predict(regressor, newdata = dataset)),\n",
    "            colour = 'blue') +\n",
    "  ggtitle('Truth or Bluff (Regression Model)') +\n",
    "  xlab('Level') +\n",
    "  ylab('Salary')"
   ]
  },
  {
   "cell_type": "markdown",
   "metadata": {},
   "source": [
    "If user wishes higher resolution, it's possible to achieve that with the following snippet of code."
   ]
  },
  {
   "cell_type": "code",
   "execution_count": null,
   "metadata": {},
   "outputs": [],
   "source": [
    "library(ggplot2)\n",
    "x_grid = seq(min(dataset$Level), max(dataset$Level), 0.01)\n",
    "ggplot() +\n",
    "  geom_point(aes(x = dataset$Level, y = dataset$Salary),\n",
    "             colour = 'red') +\n",
    "  geom_line(aes(x = x_grid, y = predict(regressor, newdata = data.frame(Level = x_grid))),\n",
    "            colour = 'blue') +\n",
    "  ggtitle('Truth or Bluff (Regression Model)') +\n",
    "  xlab('Level') +\n",
    "  ylab('Salary')"
   ]
  },
  {
   "cell_type": "code",
   "execution_count": null,
   "metadata": {},
   "outputs": [],
   "source": []
  },
  {
   "cell_type": "code",
   "execution_count": null,
   "metadata": {},
   "outputs": [],
   "source": []
  },
  {
   "cell_type": "code",
   "execution_count": null,
   "metadata": {},
   "outputs": [],
   "source": []
  }
 ],
 "metadata": {
  "kernelspec": {
   "display_name": "R",
   "language": "R",
   "name": "ir"
  }
 },
 "nbformat": 4,
 "nbformat_minor": 2
}
